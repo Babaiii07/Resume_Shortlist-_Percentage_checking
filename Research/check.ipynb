{
 "cells": [
  {
   "cell_type": "code",
   "execution_count": 14,
   "metadata": {},
   "outputs": [
    {
     "name": "stdout",
     "output_type": "stream",
     "text": [
      "Collecting easyocr\n",
      "  Downloading easyocr-1.7.2-py3-none-any.whl.metadata (10 kB)\n",
      "Requirement already satisfied: torch in c:\\users\\parth\\appdata\\local\\programs\\python\\python310\\lib\\site-packages (from easyocr) (2.2.2)\n",
      "Requirement already satisfied: torchvision>=0.5 in c:\\users\\parth\\appdata\\local\\programs\\python\\python310\\lib\\site-packages (from easyocr) (0.17.2)\n",
      "Collecting opencv-python-headless (from easyocr)\n",
      "  Downloading opencv_python_headless-4.11.0.86-cp37-abi3-win_amd64.whl.metadata (20 kB)\n",
      "Requirement already satisfied: scipy in c:\\users\\parth\\appdata\\local\\programs\\python\\python310\\lib\\site-packages (from easyocr) (1.14.1)\n",
      "Requirement already satisfied: numpy in c:\\users\\parth\\appdata\\local\\programs\\python\\python310\\lib\\site-packages (from easyocr) (1.26.4)\n",
      "Requirement already satisfied: Pillow in c:\\users\\parth\\appdata\\local\\programs\\python\\python310\\lib\\site-packages (from easyocr) (10.4.0)\n",
      "Requirement already satisfied: scikit-image in c:\\users\\parth\\appdata\\local\\programs\\python\\python310\\lib\\site-packages (from easyocr) (0.25.1)\n",
      "Collecting python-bidi (from easyocr)\n",
      "  Downloading python_bidi-0.6.6-cp310-cp310-win_amd64.whl.metadata (5.0 kB)\n",
      "Requirement already satisfied: PyYAML in c:\\users\\parth\\appdata\\local\\programs\\python\\python310\\lib\\site-packages (from easyocr) (6.0.2)\n",
      "Requirement already satisfied: Shapely in c:\\users\\parth\\appdata\\local\\programs\\python\\python310\\lib\\site-packages (from easyocr) (2.0.6)\n",
      "Requirement already satisfied: pyclipper in c:\\users\\parth\\appdata\\local\\programs\\python\\python310\\lib\\site-packages (from easyocr) (1.3.0.post6)\n",
      "Collecting ninja (from easyocr)\n",
      "  Downloading ninja-1.11.1.3-py3-none-win_amd64.whl.metadata (5.3 kB)\n",
      "Requirement already satisfied: filelock in c:\\users\\parth\\appdata\\local\\programs\\python\\python310\\lib\\site-packages (from torch->easyocr) (3.17.0)\n",
      "Requirement already satisfied: typing-extensions>=4.8.0 in c:\\users\\parth\\appdata\\local\\programs\\python\\python310\\lib\\site-packages (from torch->easyocr) (4.12.2)\n",
      "Requirement already satisfied: sympy in c:\\users\\parth\\appdata\\local\\programs\\python\\python310\\lib\\site-packages (from torch->easyocr) (1.13.1)\n",
      "Requirement already satisfied: networkx in c:\\users\\parth\\appdata\\local\\programs\\python\\python310\\lib\\site-packages (from torch->easyocr) (3.2.1)\n",
      "Requirement already satisfied: jinja2 in c:\\users\\parth\\appdata\\local\\programs\\python\\python310\\lib\\site-packages (from torch->easyocr) (3.1.4)\n",
      "Requirement already satisfied: fsspec in c:\\users\\parth\\appdata\\local\\programs\\python\\python310\\lib\\site-packages (from torch->easyocr) (2024.9.0)\n",
      "Requirement already satisfied: imageio!=2.35.0,>=2.33 in c:\\users\\parth\\appdata\\local\\programs\\python\\python310\\lib\\site-packages (from scikit-image->easyocr) (2.37.0)\n",
      "Requirement already satisfied: tifffile>=2022.8.12 in c:\\users\\parth\\appdata\\local\\programs\\python\\python310\\lib\\site-packages (from scikit-image->easyocr) (2025.1.10)\n",
      "Requirement already satisfied: packaging>=21 in c:\\users\\parth\\appdata\\local\\programs\\python\\python310\\lib\\site-packages (from scikit-image->easyocr) (24.2)\n",
      "Requirement already satisfied: lazy-loader>=0.4 in c:\\users\\parth\\appdata\\local\\programs\\python\\python310\\lib\\site-packages (from scikit-image->easyocr) (0.4)\n",
      "Requirement already satisfied: MarkupSafe>=2.0 in c:\\users\\parth\\appdata\\local\\programs\\python\\python310\\lib\\site-packages (from jinja2->torch->easyocr) (2.1.5)\n",
      "Requirement already satisfied: mpmath<1.4,>=1.1.0 in c:\\users\\parth\\appdata\\local\\programs\\python\\python310\\lib\\site-packages (from sympy->torch->easyocr) (1.3.0)\n",
      "Downloading easyocr-1.7.2-py3-none-any.whl (2.9 MB)\n",
      "   ---------------------------------------- 0.0/2.9 MB ? eta -:--:--\n",
      "   ---------------------------------------- 2.9/2.9 MB 18.5 MB/s eta 0:00:00\n",
      "Downloading ninja-1.11.1.3-py3-none-win_amd64.whl (296 kB)\n",
      "Downloading opencv_python_headless-4.11.0.86-cp37-abi3-win_amd64.whl (39.4 MB)\n",
      "   ---------------------------------------- 0.0/39.4 MB ? eta -:--:--\n",
      "   ------- -------------------------------- 7.6/39.4 MB 36.2 MB/s eta 0:00:01\n",
      "   ---------------- ----------------------- 16.3/39.4 MB 39.4 MB/s eta 0:00:01\n",
      "   ------------------------- -------------- 24.6/39.4 MB 40.0 MB/s eta 0:00:01\n",
      "   --------------------------------- ------ 33.0/39.4 MB 40.4 MB/s eta 0:00:01\n",
      "   ---------------------------------------  39.3/39.4 MB 40.4 MB/s eta 0:00:01\n",
      "   ---------------------------------------- 39.4/39.4 MB 35.8 MB/s eta 0:00:00\n",
      "Downloading python_bidi-0.6.6-cp310-cp310-win_amd64.whl (160 kB)\n",
      "Installing collected packages: python-bidi, opencv-python-headless, ninja, easyocr\n",
      "Successfully installed easyocr-1.7.2 ninja-1.11.1.3 opencv-python-headless-4.11.0.86 python-bidi-0.6.6\n"
     ]
    },
    {
     "name": "stderr",
     "output_type": "stream",
     "text": [
      "WARNING: Ignoring invalid distribution -ransformers (c:\\users\\parth\\appdata\\local\\programs\\python\\python310\\lib\\site-packages)\n",
      "WARNING: Ignoring invalid distribution -ransformers (c:\\users\\parth\\appdata\\local\\programs\\python\\python310\\lib\\site-packages)\n",
      "WARNING: Ignoring invalid distribution -ransformers (c:\\users\\parth\\appdata\\local\\programs\\python\\python310\\lib\\site-packages)\n"
     ]
    }
   ],
   "source": [
    "!pip install easyocr\n"
   ]
  },
  {
   "cell_type": "code",
   "execution_count": null,
   "metadata": {},
   "outputs": [],
   "source": [
    "import easyocr\n",
    "\n",
    "def extract_text_easyocr(image_path):\n",
    "    reader = easyocr.Reader(['en'])  \n",
    "    result = reader.readtext(image_path, detail=0)\n",
    "    return \"\\n\".join(result)\n"
   ]
  },
  {
   "cell_type": "code",
   "execution_count": 3,
   "metadata": {},
   "outputs": [
    {
     "name": "stderr",
     "output_type": "stream",
     "text": [
      "Neither CUDA nor MPS are available - defaulting to CPU. Note: This module is much faster with a GPU.\n"
     ]
    }
   ],
   "source": [
    "text = extract_text_easyocr('resume.jpg')"
   ]
  },
  {
   "cell_type": "code",
   "execution_count": 4,
   "metadata": {},
   "outputs": [
    {
     "data": {
      "text/plain": [
       "\"RICHARD SANCHEZ\\nMARKETING MANAGER\\nCONTACT\\nPROFILE\\n+123-456-7890\\nLorem ipsum dolor sit amet; consectetur adipiscing elit; sed do eiusmod tempor\\nincididunt ut labore et dolore magna aliqua. Ut enim ad minim veniam quis\\nhello@reallygreatsite.com\\nnostrud exercitation: Lorem ipsum dolor sit amet; consectetur adipiscing elit;\\nsed do eiusmod tempor incididunt ut labore et dolore magna aliqua: Ut enim ad\\n123 Anywhere St , Any City\\nminim veniam quis nostrud exercitation: Ut enim ad minim veniam quis nostrud\\nexercitation\\nWWW.\\nreallygreatsite com\\nWORK EXPERIENCE\\nEDUCATION\\nBorcelle Studio\\n2030 - PRESENT\\n2029\\n2030\\nMarketing Manager & Specialist\\nWARDIERE UNIVERSITY\\nDevelop\\nand\\nexecute   comprehensive   marketing\\nstrategies\\nand\\nMaster of Business\\ncampaigns that align with the company's goals and objectives\\nManagement\\nLead,\\nmentor;\\nand\\nmanage\\nhigh-performing   marketing\\nteam;\\nfostering a collaborative and results-driven work environment:\\nMonitor brand consistency across marketing channels and materials:\\n2025\\n2029\\nWARDIERE UNIVERSITY\\nFauget Studio\\n2025\\n2029\\nBachelor of Business\\nMarketing Manager & Specialist\\nGPA: 3.8\\n4.0\\nCreate\\nand\\nmanage\\nthe\\nmarketing\\nbudget;\\nensuring\\nefficient\\nallocation of resources and optimizing ROI\\nSKILLS\\nOversee market research to identify emerging trends, customer needs\\nand competitor strategies\\nProject Management\\nMonitor brand consistency across marketing channels and materials:\\nPublic Relations\\nStudio Shodwe\\n2024\\n2025\\nTeamwork\\nMarketing Manager & Specialist\\nTime Management\\nDevelop and maintain strong relationships with partners, agencies;\\nLeadership\\nand vendors to support marketing initiatives:\\nEffective Communication\\nMonitor\\nand\\nmaintain\\nbrand   consistency\\nacross\\nall   marketing\\nCritical Thinking\\nchannels and materials:\\nLANGUAGES\\nREFERENCE\\nEnglish (Fluent)\\nEstelle\\nHarper Richard\\nFrench (Fluent)\\nWardiere Inc:\\nCTO\\nWardiere Inc:\\nCEO\\nGerman (Basics)\\nPhone:\\n123-456-7890\\nPhone:\\n123-456-7890\\nSpanish (Intermediate)\\nEmail :\\nhello@reallygreatsite.com\\nEmail\\nhello@reallygreatsite.com\\nDarcy\""
      ]
     },
     "execution_count": 4,
     "metadata": {},
     "output_type": "execute_result"
    }
   ],
   "source": [
    "text"
   ]
  },
  {
   "cell_type": "code",
   "execution_count": 11,
   "metadata": {},
   "outputs": [],
   "source": [
    "from langchain_google_genai import GoogleGenerativeAIEmbeddings\n",
    "import os\n",
    "from dotenv import load_dotenv\n",
    "load_dotenv()\n",
    "GOOGLE_API_KEY = os.environ.get('GOOGLE_API_KEY')\n",
    "os.environ['GOOGLE_API_KEY'] = GOOGLE_API_KEY\n",
    "embeddings = GoogleGenerativeAIEmbeddings(model='models/embedding-001')"
   ]
  },
  {
   "cell_type": "code",
   "execution_count": 12,
   "metadata": {},
   "outputs": [],
   "source": [
    "vector_resume_text = embeddings.embed_query(text)"
   ]
  },
  {
   "cell_type": "code",
   "execution_count": 14,
   "metadata": {},
   "outputs": [],
   "source": [
    "def text_loader(path):\n",
    "    with open(path, 'r') as f:\n",
    "        return f.read()"
   ]
  },
  {
   "cell_type": "code",
   "execution_count": 16,
   "metadata": {},
   "outputs": [],
   "source": [
    "text_job_description = text_loader('new_file.txt')"
   ]
  },
  {
   "cell_type": "code",
   "execution_count": 17,
   "metadata": {},
   "outputs": [
    {
     "data": {
      "text/plain": [
       "'Job Title: Marketing Manager\\n\\nKey Responsibilities:\\n\\nDevelop and execute comprehensive marketing strategies and campaigns that align with company goals.\\nLead, mentor, and manage a high-performing marketing team, fostering collaboration and results-driven work.\\nMonitor brand consistency across all marketing channels and materials.\\nCreate and manage marketing budgets, ensuring efficient resource allocation and optimizing ROI.\\nOversee market research to identify emerging trends, customer needs, and competitor strategies.\\nDevelop and maintain strong relationships with partners, agencies, and vendors to support marketing initiatives.\\nWork Experience:\\n\\nBorcelle Studio (2030 - Present)\\n\\nMarketing Manager & Specialist\\nFocus on campaign execution, team leadership, and brand consistency.\\nFauget Studio (2025 - 2029)\\n\\nMarketing Manager & Specialist\\nBudget management, market research, and strategic brand monitoring.\\nStudio Shodwe (2024 - 2025)\\n\\nMarketing Manager & Specialist\\nPartner and vendor relationship management, along with brand consistency.'"
      ]
     },
     "execution_count": 17,
     "metadata": {},
     "output_type": "execute_result"
    }
   ],
   "source": [
    "text_job_description"
   ]
  },
  {
   "cell_type": "code",
   "execution_count": 18,
   "metadata": {},
   "outputs": [],
   "source": [
    "vector_job_description = embeddings.embed_query(text_job_description)"
   ]
  },
  {
   "cell_type": "code",
   "execution_count": 19,
   "metadata": {},
   "outputs": [],
   "source": [
    "from sklearn.metrics.pairwise import cosine_similarity\n",
    "\n",
    "similarity_score = cosine_similarity([vector_resume_text], [vector_job_description])[0][0]"
   ]
  },
  {
   "cell_type": "code",
   "execution_count": 20,
   "metadata": {},
   "outputs": [
    {
     "data": {
      "text/plain": [
       "0.7119350345859525"
      ]
     },
     "execution_count": 20,
     "metadata": {},
     "output_type": "execute_result"
    }
   ],
   "source": [
    "similarity_score"
   ]
  },
  {
   "cell_type": "code",
   "execution_count": null,
   "metadata": {},
   "outputs": [],
   "source": []
  }
 ],
 "metadata": {
  "kernelspec": {
   "display_name": "Python 3",
   "language": "python",
   "name": "python3"
  },
  "language_info": {
   "codemirror_mode": {
    "name": "ipython",
    "version": 3
   },
   "file_extension": ".py",
   "mimetype": "text/x-python",
   "name": "python",
   "nbconvert_exporter": "python",
   "pygments_lexer": "ipython3",
   "version": "3.10.0"
  }
 },
 "nbformat": 4,
 "nbformat_minor": 2
}
